{
 "cells": [
  {
   "cell_type": "code",
   "execution_count": 13,
   "metadata": {},
   "outputs": [],
   "source": [
    "import numpy as np\n",
    "import pandas as pd\n",
    "import requests\n",
    "import os, glob\n",
    "import psutil"
   ]
  },
  {
   "cell_type": "markdown",
   "metadata": {},
   "source": [
    "<h1>Functions that we work with</h1>"
   ]
  },
  {
   "cell_type": "code",
   "execution_count": 55,
   "metadata": {},
   "outputs": [],
   "source": [
    "def reader(file):\n",
    "    data = pd.read_csv(file)\n",
    "    data['country']=[file[:2] for f in data['title']]\n",
    "    return(data)\n",
    "\n",
    "def current_dir():\n",
    "    return(os.getcwd())\n",
    "\n",
    "def get_username():\n",
    "    return psutil.Process().username().split('\\\\')[1]"
   ]
  },
  {
   "cell_type": "markdown",
   "metadata": {},
   "source": [
    "<h1>Check to see if current directory matches where files are stored</h1>"
   ]
  },
  {
   "cell_type": "code",
   "execution_count": 56,
   "metadata": {},
   "outputs": [
    {
     "name": "stdout",
     "output_type": "stream",
     "text": [
      "C:\\Users\\paulm\\Desktop\\homework\\project\n"
     ]
    }
   ],
   "source": [
    "print(current_dir())"
   ]
  },
  {
   "cell_type": "markdown",
   "metadata": {},
   "source": [
    "<h2>Getting all CSV files for the Data</h2>"
   ]
  },
  {
   "cell_type": "code",
   "execution_count": 61,
   "metadata": {},
   "outputs": [
    {
     "name": "stdout",
     "output_type": "stream",
     "text": [
      "BR_youtube_trending_data.csv ----- 686681\n",
      "CA_youtube_trending_data.csv ----- 685865\n",
      "DE_youtube_trending_data.csv ----- 685899\n",
      "FR_youtube_trending_data.csv ----- 686698\n",
      "GB_youtube_trending_data.csv ----- 686715\n",
      "IN_youtube_trending_data.csv ----- 642464\n",
      "JP_youtube_trending_data.csv ----- 686732\n",
      "KR_youtube_trending_data.csv ----- 635018\n",
      "MX_youtube_trending_data.csv ----- 683383\n",
      "RU_youtube_trending_data.csv ----- 684369\n",
      "US_youtube_trending_data.csv ----- 686664\n",
      "total size for top 30 videos in 11 countries is 7450488\n"
     ]
    }
   ],
   "source": [
    "os.chdir(current_dir())\n",
    "\n",
    "li = []\n",
    "sizes = 0\n",
    "for file in glob.glob(\"*.csv\", recursive = True):\n",
    "    li.append(reader(file))\n",
    "    print(file,'-----',reader(file).size)\n",
    "    sizes += reader(file).size\n",
    "print(\"total size for top 30 videos in 11 countries is \"+str(sizes))\n",
    "result = pd.concat(li, axis=0, ignore_index=True)"
   ]
  },
  {
   "cell_type": "code",
   "execution_count": 63,
   "metadata": {},
   "outputs": [
    {
     "name": "stdout",
     "output_type": "stream",
     "text": [
      "video_id\n",
      "title\n",
      "publishedAt\n",
      "channelId\n",
      "channelTitle\n",
      "categoryId\n",
      "trending_date\n",
      "tags\n",
      "view_count\n",
      "likes\n",
      "dislikes\n",
      "comment_count\n",
      "thumbnail_link\n",
      "comments_disabled\n",
      "ratings_disabled\n",
      "description\n",
      "country\n"
     ]
    }
   ],
   "source": [
    "for c in result.columns:\n",
    "    print(c)"
   ]
  },
  {
   "cell_type": "code",
   "execution_count": 64,
   "metadata": {},
   "outputs": [
    {
     "data": {
      "text/html": [
       "<div>\n",
       "<style scoped>\n",
       "    .dataframe tbody tr th:only-of-type {\n",
       "        vertical-align: middle;\n",
       "    }\n",
       "\n",
       "    .dataframe tbody tr th {\n",
       "        vertical-align: top;\n",
       "    }\n",
       "\n",
       "    .dataframe thead th {\n",
       "        text-align: right;\n",
       "    }\n",
       "</style>\n",
       "<table border=\"1\" class=\"dataframe\">\n",
       "  <thead>\n",
       "    <tr style=\"text-align: right;\">\n",
       "      <th></th>\n",
       "      <th>categoryId</th>\n",
       "      <th>view_count</th>\n",
       "      <th>likes</th>\n",
       "      <th>dislikes</th>\n",
       "      <th>comment_count</th>\n",
       "    </tr>\n",
       "  </thead>\n",
       "  <tbody>\n",
       "    <tr>\n",
       "      <th>count</th>\n",
       "      <td>438264.000000</td>\n",
       "      <td>4.382640e+05</td>\n",
       "      <td>4.382640e+05</td>\n",
       "      <td>4.382640e+05</td>\n",
       "      <td>4.382640e+05</td>\n",
       "    </tr>\n",
       "    <tr>\n",
       "      <th>mean</th>\n",
       "      <td>19.027926</td>\n",
       "      <td>1.709070e+06</td>\n",
       "      <td>1.056051e+05</td>\n",
       "      <td>2.895660e+03</td>\n",
       "      <td>1.129388e+04</td>\n",
       "    </tr>\n",
       "    <tr>\n",
       "      <th>std</th>\n",
       "      <td>7.068291</td>\n",
       "      <td>5.609668e+06</td>\n",
       "      <td>4.051994e+05</td>\n",
       "      <td>5.631809e+04</td>\n",
       "      <td>1.090949e+05</td>\n",
       "    </tr>\n",
       "    <tr>\n",
       "      <th>min</th>\n",
       "      <td>1.000000</td>\n",
       "      <td>0.000000e+00</td>\n",
       "      <td>0.000000e+00</td>\n",
       "      <td>0.000000e+00</td>\n",
       "      <td>0.000000e+00</td>\n",
       "    </tr>\n",
       "    <tr>\n",
       "      <th>25%</th>\n",
       "      <td>17.000000</td>\n",
       "      <td>2.131200e+05</td>\n",
       "      <td>7.463000e+03</td>\n",
       "      <td>1.690000e+02</td>\n",
       "      <td>5.970000e+02</td>\n",
       "    </tr>\n",
       "    <tr>\n",
       "      <th>50%</th>\n",
       "      <td>22.000000</td>\n",
       "      <td>5.318070e+05</td>\n",
       "      <td>2.253400e+04</td>\n",
       "      <td>4.750000e+02</td>\n",
       "      <td>1.713000e+03</td>\n",
       "    </tr>\n",
       "    <tr>\n",
       "      <th>75%</th>\n",
       "      <td>24.000000</td>\n",
       "      <td>1.371926e+06</td>\n",
       "      <td>7.298375e+04</td>\n",
       "      <td>1.486000e+03</td>\n",
       "      <td>5.202000e+03</td>\n",
       "    </tr>\n",
       "    <tr>\n",
       "      <th>max</th>\n",
       "      <td>29.000000</td>\n",
       "      <td>2.623193e+08</td>\n",
       "      <td>1.625479e+07</td>\n",
       "      <td>1.234147e+07</td>\n",
       "      <td>6.303708e+06</td>\n",
       "    </tr>\n",
       "  </tbody>\n",
       "</table>\n",
       "</div>"
      ],
      "text/plain": [
       "          categoryId    view_count         likes      dislikes  comment_count\n",
       "count  438264.000000  4.382640e+05  4.382640e+05  4.382640e+05   4.382640e+05\n",
       "mean       19.027926  1.709070e+06  1.056051e+05  2.895660e+03   1.129388e+04\n",
       "std         7.068291  5.609668e+06  4.051994e+05  5.631809e+04   1.090949e+05\n",
       "min         1.000000  0.000000e+00  0.000000e+00  0.000000e+00   0.000000e+00\n",
       "25%        17.000000  2.131200e+05  7.463000e+03  1.690000e+02   5.970000e+02\n",
       "50%        22.000000  5.318070e+05  2.253400e+04  4.750000e+02   1.713000e+03\n",
       "75%        24.000000  1.371926e+06  7.298375e+04  1.486000e+03   5.202000e+03\n",
       "max        29.000000  2.623193e+08  1.625479e+07  1.234147e+07   6.303708e+06"
      ]
     },
     "execution_count": 64,
     "metadata": {},
     "output_type": "execute_result"
    }
   ],
   "source": [
    "result.describe()"
   ]
  },
  {
   "cell_type": "code",
   "execution_count": 65,
   "metadata": {},
   "outputs": [
    {
     "name": "stdout",
     "output_type": "stream",
     "text": [
      "<class 'pandas.core.frame.DataFrame'>\n",
      "RangeIndex: 438264 entries, 0 to 438263\n",
      "Data columns (total 17 columns):\n",
      " #   Column             Non-Null Count   Dtype \n",
      "---  ------             --------------   ----- \n",
      " 0   video_id           438264 non-null  object\n",
      " 1   title              438264 non-null  object\n",
      " 2   publishedAt        438264 non-null  object\n",
      " 3   channelId          438264 non-null  object\n",
      " 4   channelTitle       438263 non-null  object\n",
      " 5   categoryId         438264 non-null  int64 \n",
      " 6   trending_date      438264 non-null  object\n",
      " 7   tags               438264 non-null  object\n",
      " 8   view_count         438264 non-null  int64 \n",
      " 9   likes              438264 non-null  int64 \n",
      " 10  dislikes           438264 non-null  int64 \n",
      " 11  comment_count      438264 non-null  int64 \n",
      " 12  thumbnail_link     438264 non-null  object\n",
      " 13  comments_disabled  438264 non-null  bool  \n",
      " 14  ratings_disabled   438264 non-null  bool  \n",
      " 15  description        432994 non-null  object\n",
      " 16  country            438264 non-null  object\n",
      "dtypes: bool(2), int64(5), object(10)\n",
      "memory usage: 51.0+ MB\n"
     ]
    }
   ],
   "source": [
    "result.info()"
   ]
  },
  {
   "cell_type": "code",
   "execution_count": 66,
   "metadata": {},
   "outputs": [
    {
     "data": {
      "text/html": [
       "<div>\n",
       "<style scoped>\n",
       "    .dataframe tbody tr th:only-of-type {\n",
       "        vertical-align: middle;\n",
       "    }\n",
       "\n",
       "    .dataframe tbody tr th {\n",
       "        vertical-align: top;\n",
       "    }\n",
       "\n",
       "    .dataframe thead th {\n",
       "        text-align: right;\n",
       "    }\n",
       "</style>\n",
       "<table border=\"1\" class=\"dataframe\">\n",
       "  <thead>\n",
       "    <tr style=\"text-align: right;\">\n",
       "      <th></th>\n",
       "      <th>categoryId</th>\n",
       "      <th>view_count</th>\n",
       "      <th>likes</th>\n",
       "      <th>dislikes</th>\n",
       "      <th>comment_count</th>\n",
       "    </tr>\n",
       "  </thead>\n",
       "  <tbody>\n",
       "    <tr>\n",
       "      <th>0</th>\n",
       "      <td>22</td>\n",
       "      <td>263835</td>\n",
       "      <td>85095</td>\n",
       "      <td>487</td>\n",
       "      <td>4500</td>\n",
       "    </tr>\n",
       "    <tr>\n",
       "      <th>1</th>\n",
       "      <td>10</td>\n",
       "      <td>6000070</td>\n",
       "      <td>714310</td>\n",
       "      <td>15176</td>\n",
       "      <td>31040</td>\n",
       "    </tr>\n",
       "    <tr>\n",
       "      <th>2</th>\n",
       "      <td>22</td>\n",
       "      <td>2296748</td>\n",
       "      <td>39761</td>\n",
       "      <td>5484</td>\n",
       "      <td>0</td>\n",
       "    </tr>\n",
       "    <tr>\n",
       "      <th>3</th>\n",
       "      <td>20</td>\n",
       "      <td>300510</td>\n",
       "      <td>46222</td>\n",
       "      <td>242</td>\n",
       "      <td>2748</td>\n",
       "    </tr>\n",
       "    <tr>\n",
       "      <th>4</th>\n",
       "      <td>23</td>\n",
       "      <td>327235</td>\n",
       "      <td>22059</td>\n",
       "      <td>3972</td>\n",
       "      <td>2751</td>\n",
       "    </tr>\n",
       "    <tr>\n",
       "      <th>...</th>\n",
       "      <td>...</td>\n",
       "      <td>...</td>\n",
       "      <td>...</td>\n",
       "      <td>...</td>\n",
       "      <td>...</td>\n",
       "    </tr>\n",
       "    <tr>\n",
       "      <th>438259</th>\n",
       "      <td>20</td>\n",
       "      <td>453545</td>\n",
       "      <td>15481</td>\n",
       "      <td>379</td>\n",
       "      <td>2289</td>\n",
       "    </tr>\n",
       "    <tr>\n",
       "      <th>438260</th>\n",
       "      <td>20</td>\n",
       "      <td>2349296</td>\n",
       "      <td>62948</td>\n",
       "      <td>11658</td>\n",
       "      <td>20066</td>\n",
       "    </tr>\n",
       "    <tr>\n",
       "      <th>438261</th>\n",
       "      <td>24</td>\n",
       "      <td>2236533</td>\n",
       "      <td>189768</td>\n",
       "      <td>922</td>\n",
       "      <td>14878</td>\n",
       "    </tr>\n",
       "    <tr>\n",
       "      <th>438262</th>\n",
       "      <td>22</td>\n",
       "      <td>841876</td>\n",
       "      <td>54405</td>\n",
       "      <td>573</td>\n",
       "      <td>9090</td>\n",
       "    </tr>\n",
       "    <tr>\n",
       "      <th>438263</th>\n",
       "      <td>22</td>\n",
       "      <td>3181348</td>\n",
       "      <td>284360</td>\n",
       "      <td>1948</td>\n",
       "      <td>12303</td>\n",
       "    </tr>\n",
       "  </tbody>\n",
       "</table>\n",
       "<p>438264 rows × 5 columns</p>\n",
       "</div>"
      ],
      "text/plain": [
       "        categoryId  view_count   likes  dislikes  comment_count\n",
       "0               22      263835   85095       487           4500\n",
       "1               10     6000070  714310     15176          31040\n",
       "2               22     2296748   39761      5484              0\n",
       "3               20      300510   46222       242           2748\n",
       "4               23      327235   22059      3972           2751\n",
       "...            ...         ...     ...       ...            ...\n",
       "438259          20      453545   15481       379           2289\n",
       "438260          20     2349296   62948     11658          20066\n",
       "438261          24     2236533  189768       922          14878\n",
       "438262          22      841876   54405       573           9090\n",
       "438263          22     3181348  284360      1948          12303\n",
       "\n",
       "[438264 rows x 5 columns]"
      ]
     },
     "execution_count": 66,
     "metadata": {},
     "output_type": "execute_result"
    }
   ],
   "source": [
    "new_columns=['categoryId','view_count','likes','dislikes','comment_count']\n",
    "analyze=result[new_columns]\n",
    "analyze"
   ]
  },
  {
   "cell_type": "code",
   "execution_count": 68,
   "metadata": {},
   "outputs": [
    {
     "data": {
      "text/plain": [
       "array([[<matplotlib.axes._subplots.AxesSubplot object at 0x00000219BE6CAC88>,\n",
       "        <matplotlib.axes._subplots.AxesSubplot object at 0x00000219B8AC75C0>,\n",
       "        <matplotlib.axes._subplots.AxesSubplot object at 0x00000219B187F668>,\n",
       "        <matplotlib.axes._subplots.AxesSubplot object at 0x00000219B1864F28>,\n",
       "        <matplotlib.axes._subplots.AxesSubplot object at 0x00000219A92964E0>],\n",
       "       [<matplotlib.axes._subplots.AxesSubplot object at 0x00000219AE7F7A58>,\n",
       "        <matplotlib.axes._subplots.AxesSubplot object at 0x00000219AE813FD0>,\n",
       "        <matplotlib.axes._subplots.AxesSubplot object at 0x00000219A9A875C0>,\n",
       "        <matplotlib.axes._subplots.AxesSubplot object at 0x00000219A9A875F8>,\n",
       "        <matplotlib.axes._subplots.AxesSubplot object at 0x00000219869D4F60>],\n",
       "       [<matplotlib.axes._subplots.AxesSubplot object at 0x00000219869FC9E8>,\n",
       "        <matplotlib.axes._subplots.AxesSubplot object at 0x000002199CD99BA8>,\n",
       "        <matplotlib.axes._subplots.AxesSubplot object at 0x00000219B5F90EB8>,\n",
       "        <matplotlib.axes._subplots.AxesSubplot object at 0x00000219B5F77940>,\n",
       "        <matplotlib.axes._subplots.AxesSubplot object at 0x00000219B84C23C8>],\n",
       "       [<matplotlib.axes._subplots.AxesSubplot object at 0x00000219B8B5DE10>,\n",
       "        <matplotlib.axes._subplots.AxesSubplot object at 0x00000219B8B88898>,\n",
       "        <matplotlib.axes._subplots.AxesSubplot object at 0x00000219B8B2B320>,\n",
       "        <matplotlib.axes._subplots.AxesSubplot object at 0x00000219BA45CD68>,\n",
       "        <matplotlib.axes._subplots.AxesSubplot object at 0x00000219BA4767F0>],\n",
       "       [<matplotlib.axes._subplots.AxesSubplot object at 0x00000219C2962DA0>,\n",
       "        <matplotlib.axes._subplots.AxesSubplot object at 0x00000219C191A358>,\n",
       "        <matplotlib.axes._subplots.AxesSubplot object at 0x00000219C19008D0>,\n",
       "        <matplotlib.axes._subplots.AxesSubplot object at 0x00000219C0F08E48>,\n",
       "        <matplotlib.axes._subplots.AxesSubplot object at 0x00000219BC9E2400>]],\n",
       "      dtype=object)"
      ]
     },
     "execution_count": 68,
     "metadata": {},
     "output_type": "execute_result"
    },
    {
     "data": {
      "image/png": "[encoded data removed]",
      "text/plain": [
       "<Figure size 432x288 with 25 Axes>"
      ]
     },
     "metadata": {
      "needs_background": "light"
     },
     "output_type": "display_data"
    }
   ],
   "source": [
    "pd.plotting.scatter_matrix(analyze)"
   ]
  },
  {
   "cell_type": "code",
   "execution_count": null,
   "metadata": {},
   "outputs": [],
   "source": []
  }
 ],
 "metadata": {
  "kernelspec": {
   "display_name": "Python 3",
   "language": "python",
   "name": "python3"
  },
  "language_info": {
   "codemirror_mode": {
    "name": "ipython",
    "version": 3
   },
   "file_extension": ".py",
   "mimetype": "text/x-python",
   "name": "python",
   "nbconvert_exporter": "python",
   "pygments_lexer": "ipython3",
   "version": "3.6.10"
  }
 },
 "nbformat": 4,
 "nbformat_minor": 4
}
