{
 "cells": [
  {
   "cell_type": "code",
   "execution_count": 6,
   "metadata": {},
   "outputs": [
    {
     "name": "stderr",
     "output_type": "stream",
     "text": [
      "E\n",
      "======================================================================\n",
      "ERROR: C:\\Users\\bmcca\\AppData\\Roaming\\jupyter\\runtime\\kernel-f6936dcb-53b1-4bf1-b842-a645d9d2feb6 (unittest.loader._FailedTest)\n",
      "----------------------------------------------------------------------\n",
      "AttributeError: module '__main__' has no attribute 'C:\\Users\\bmcca\\AppData\\Roaming\\jupyter\\runtime\\kernel-f6936dcb-53b1-4bf1-b842-a645d9d2feb6'\n",
      "\n",
      "----------------------------------------------------------------------\n",
      "Ran 1 test in 0.001s\n",
      "\n",
      "FAILED (errors=1)\n"
     ]
    },
    {
     "ename": "SystemExit",
     "evalue": "True",
     "output_type": "error",
     "traceback": [
      "An exception has occurred, use %tb to see the full traceback.\n",
      "\u001b[1;31mSystemExit\u001b[0m\u001b[1;31m:\u001b[0m True\n"
     ]
    },
    {
     "name": "stderr",
     "output_type": "stream",
     "text": [
      "D:\\Anaconda\\envs\\pandas_env\\lib\\site-packages\\IPython\\core\\interactiveshell.py:3445: UserWarning: To exit: use 'exit', 'quit', or Ctrl-D.\n",
      "  warn(\"To exit: use 'exit', 'quit', or Ctrl-D.\", stacklevel=1)\n"
     ]
    }
   ],
   "source": [
    "import unittest\n",
    "import Youtube_data\n",
    "\n",
    "class Tags_test(unittest.TestCase):\n",
    "    def test_cross_referance_tags(self):\n",
    "        self.assertEqual(Youtube_data.cross_referance_tags(\"MX\",\"US\", 0), [])\n",
    "        self.assertEqual(Youtube_data.cross_referance_tags(\"MX\",\"US\", 10), ['vlog'])\n",
    "        self.assertEqual(Youtube_data.cross_referance_tags(\"US\",\"CA\", 3), ['funny', 'comedy', '2020'])\n",
    "        self.assertEqual(Youtube_data.cross_referance_tags(\"BR\",\"MX\", 100), ['humor', 'vlog', 'Futebol', '2020', 'Pop', 'Music', 'comedia', 'rap', 'canal', 'Universal', 'highlights', 'soccer', 'musica'])\n",
    "        self.assertEqual(Youtube_data.cross_referance_tags(\"US\",\"GB\", 3), ['funny', 'comedy'])\n",
    "        self.assertEqual(Youtube_data.cross_referance_tags(\"KR\",\"JP\", 100), ['BTS'])\n",
    "    def test_tag_cross_referance(self):\n",
    "        self.assertEqual(Youtube_data.tag_cross_referance(\"US\", 1),[])\n",
    "        self.assertEqual(Youtube_data.tag_cross_referance(\"US\", 10),[])\n",
    "        self.assertEqual(Youtube_data.tag_cross_referance(\"US\", 100),['2020','vlog'])\n",
    "        self.assertEqual(Youtube_data.tag_cross_referance(\"US\", 1000),['funny', 'comedy', '2020', 'highlights', 'vlog', 'music', 'tiktok', 'rap', 'challenge', 'hip hop', 'football', 'music video', 'video', 'review', 'Rap', 'soccer', 'BTS', 'live', 'Pop', 'trailer', '2021', '방탄소년단', 'yt:cc=on', 'youtube', 'goals', 'Teaser', '블랙핑크', 'BANGTAN', 'YG', 'netflix', 'K-pop', 'Vlog', 'Lisa'])\n",
    "        self.assertEqual(Youtube_data.tag_cross_referance(\"BR\", 100),['2020','vlog'])\n",
    "        self.assertEqual(Youtube_data.tag_cross_referance(\"MX\", 1000),['challenge', 'vlog', '2020', 'Pop', 'rap', 'soccer', 'hip hop', 'highlights', 'video', 'tiktok', 'music', 'football', 'BTS', 'funny', '2021', 'youtube', '방탄소년단', 'Rap', 'music video', 'review', 'BANGTAN', 'goals', 'netflix', 'Teaser', 'YG', 'K-pop', '블랙핑크', 'yt:cc=on', 'trailer', 'live', 'Lisa', 'Vlog', 'comedy'])\n",
    "\n",
    "if __name__ == \"__main__\":\n",
    "    unittest.main()"
   ]
  }
 ],
 "metadata": {
  "kernelspec": {
   "display_name": "Python 3",
   "language": "python",
   "name": "python3"
  },
  "language_info": {
   "codemirror_mode": {
    "name": "ipython",
    "version": 3
   },
   "file_extension": ".py",
   "mimetype": "text/x-python",
   "name": "python",
   "nbconvert_exporter": "python",
   "pygments_lexer": "ipython3",
   "version": "3.8.5"
  }
 },
 "nbformat": 4,
 "nbformat_minor": 5
}
